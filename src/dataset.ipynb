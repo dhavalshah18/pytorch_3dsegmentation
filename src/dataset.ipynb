{
 "cells": [
  {
   "cell_type": "markdown",
   "metadata": {},
   "source": [
    "### Checking out data"
   ]
  },
  {
   "cell_type": "code",
   "execution_count": 1,
   "metadata": {},
   "outputs": [
    {
     "name": "stdout",
     "output_type": "stream",
     "text": [
      "Patient:  10001 Location:  []\n",
      "Patient:  10002 Location:  []\n",
      "Patient:  10003 Location:  []\n",
      "Patient:  10004 Location:  []\n",
      "Patient:  10006 Location:  []\n",
      "Patient:  10009 Location:  []\n",
      "Patient:  10010 Location:  []\n",
      "Patient:  10011 Location:  []\n",
      "Patient:  10014 Location:  []\n",
      "Patient:  10015 Location:  []\n",
      "Patient:  10016 Location:  []\n",
      "Patient:  10017 Location:  []\n",
      "Patient:  10018 Location:  []\n",
      "Patient:  10019 Location:  []\n",
      "Patient:  10020 Location:  []\n",
      "Patient:  10021 Location:  ['377, 221, 89, 3.0']\n",
      "Patient:  10024 Location:  ['314, 244, 41, 4.16\\n', '234, 237, 42, 2.05']\n",
      "Patient:  10026 Location:  ['470, 396, 75, 3.99']\n",
      "Patient:  10027 Location:  ['252, 236, 37, 2.1']\n",
      "Patient:  10029 Location:  ['341, 216, 27, 4.12']\n",
      "Patient:  10030 Location:  ['303, 213, 65, 3.84\\n', '208, 224, 64, 0.7']\n",
      "Patient:  10031 Location:  ['258, 207, 41, 3.56']\n",
      "Patient:  10032 Location:  ['217, 223, 67, 1.27\\n', '241, 257, 77, 0.75']\n",
      "Patient:  10033 Location:  ['293, 223, 40, 4.14']\n",
      "Patient:  10034 Location:  ['282, 271, 68, 2.14\\n', '261, 235, 58, 1.56']\n",
      "Patient:  10035 Location:  ['354, 212, 64, 5.52']\n",
      "Patient:  10036 Location:  ['267, 234, 36, 4.21']\n",
      "Patient:  10038 Location:  ['173, 245, 82, 1.01']\n",
      "Patient:  10039 Location:  ['291, 231, 47, 5.3\\n', '341, 189, 56, 1.73']\n",
      "Patient:  10040 Location:  ['304, 242, 51, 1.24']\n",
      "Patient:  10041 Location:  ['287, 145, 142, 2.35']\n",
      "Patient:  10042 Location:  ['392, 215, 77, 6.21']\n",
      "Patient:  10044B Location:  ['221, 220, 35, 2.1\\n', '253, 267, 40, 2.03']\n",
      "Patient:  10044F Location:  ['217, 221, 66, 2.82\\n', '242, 257, 77, 2.01']\n",
      "Patient:  10046B Location:  ['228, 222, 30, 2.33']\n",
      "Patient:  10046F Location:  ['250, 244, 58, 2.5']\n",
      "Patient:  10047B Location:  ['257, 215, 64, 2.27']\n",
      "Patient:  10047F Location:  ['257, 199, 36, 1.98']\n",
      "Patient:  10048B Location:  ['335, 233, 43, 6.62']\n",
      "Patient:  10048F Location:  ['352, 218, 77, 7.12']\n",
      "Patient:  10049B Location:  ['285, 221, 46, 5.88']\n",
      "Patient:  10049F Location:  ['314, 223, 60, 4.91']\n",
      "Patient:  10050B Location:  ['259, 213, 46, 7.02']\n",
      "Patient:  10050F Location:  ['261, 206, 54, 6.91']\n",
      "Patient:  10051B Location:  ['331, 197, 45, 4.4\\n', '150, 191, 60, 4.48']\n",
      "Patient:  10051F Location:  ['371, 230, 50, 3.43\\n', '172, 207, 62, 3.89']\n",
      "Patient:  10052B Location:  ['221, 230, 49, 6.89\\n', '283, 225, 54, 7.36']\n",
      "Patient:  10052F Location:  ['283, 217, 67, 5.45\\n', '221, 220, 69, 3.6']\n",
      "Patient:  10053B Location:  ['517, 387, 97, 2.24\\n', '389, 450, 96, 2.4']\n",
      "Patient:  10053F Location:  ['213, 243, 85, 2.63\\n', '282, 208, 87, 1.29']\n",
      "Patient:  10054B Location:  ['252, 212, 60, 6.77']\n",
      "Patient:  10054F Location:  ['257, 201, 70, 1.95']\n",
      "Patient:  10055B Location:  ['151, 235, 57, 5.42']\n",
      "Patient:  10055F Location:  ['151, 231, 70, 5.94']\n",
      "Patient:  10060B Location:  ['518, 321, 106, 2.73']\n",
      "Patient:  10060F Location:  ['251, 156, 85, 2.33']\n",
      "Patient:  10061B Location:  ['298, 234, 36, 1.95']\n",
      "Patient:  10061F Location:  ['290, 255, 61, 3.74']\n",
      "Patient:  10063B Location:  ['315, 171, 160, 6.82']\n",
      "Patient:  10063F Location:  ['312, 227, 40, 6.05']\n",
      "Patient:  10064B Location:  ['252, 127, 112, 5.17']\n",
      "Patient:  10064F Location:  ['274, 131, 77, 4.61']\n",
      "Patient:  10065B Location:  ['310, 223, 45, 5.42']\n",
      "Patient:  10065F Location:  ['298, 214, 31, 9.32']\n",
      "Patient:  10066B Location:  ['136, 185, 39, 3.14\\n', '210, 191, 40, 8.66']\n",
      "Patient:  10066F Location:  ['157, 235, 62, 3.3\\n', '219, 236, 59, 3.19']\n",
      "Patient:  10067B Location:  ['170, 194, 66, 3.3']\n",
      "Patient:  10067F Location:  ['177, 195, 65, 4.2']\n",
      "Patient:  10068B Location:  ['328, 228, 59, 4.78']\n",
      "Patient:  10068F Location:  ['632, 438, 84, 3.97']\n",
      "Patient:  10070B Location:  ['334, 184, 25, 2.38']\n",
      "Patient:  10070F Location:  ['361, 225, 63, 2.73']\n",
      "Patient:  10071B Location:  ['130, 77, 58, 7.05']\n",
      "Patient:  10071F Location:  ['281, 206, 71, 8.46']\n",
      "Patient:  10072B Location:  ['495, 514, 71, 4.75']\n",
      "Patient:  10072F Location:  ['248, 243, 59, 4.14']\n",
      "Patient:  10075B Location:  ['211, 246, 44, 1.59']\n",
      "Patient:  10075F Location:  ['229, 228, 45, 2.01']\n",
      "Patient:  10076B Location:  ['248, 189, 71, 5.06\\n', '159, 192, 66, 1.69']\n",
      "Patient:  10076F Location:  ['523, 416, 84, 3.47\\n', '340, 418, 74, 4.24']\n",
      "Patient:  10077B Location:  ['233, 199, 75, 2.28']\n",
      "Patient:  10077F Location:  ['263, 220, 68, 1.87']\n",
      "Patient:  10078B Location:  ['206, 238, 51, 6.24\\n', '268, 262, 54, 2.25\\n', '343, 244, 40, 2.15']\n",
      "Patient:  10078F Location:  ['277, 280, 85, 5.1\\n', '221, 269, 79, 6.49\\n', '340, 257, 61, 2.96']\n",
      "Patient:  10005 Location:  []\n",
      "Patient:  10007 Location:  []\n",
      "Patient:  10008 Location:  []\n",
      "Patient:  10012 Location:  []\n",
      "Patient:  10013 Location:  []\n",
      "Patient:  10022 Location:  ['353, 230, 78, 3.21']\n",
      "Patient:  10023 Location:  ['238, 263, 48, 1.08']\n",
      "Patient:  10025 Location:  ['281, 225, 90, 2.08']\n",
      "Patient:  10028 Location:  ['370, 228, 81, 1.38']\n",
      "Patient:  10037 Location:  ['143, 46, 72, 3.06']\n",
      "Patient:  10043 Location:  ['188, 229, 41, 4.1\\n', '346, 258, 60, 2.31\\n', '198, 247, 41, 1.99\\n', '370, 245, 44, 2.08']\n",
      "Patient:  10045B Location:  ['283, 201, 34, 4.9']\n",
      "Patient:  10045F Location:  ['279, 199, 70, 5.58']\n",
      "Patient:  10056B Location:  ['104, 130, 38, 1.42']\n",
      "Patient:  10056F Location:  ['261, 235, 59, 2.26\\n', '281, 271, 68, 2.72']\n",
      "Patient:  10057B Location:  ['250, 197, 48, 5.68']\n",
      "Patient:  10057F Location:  ['277, 233, 72, 6.55']\n",
      "Patient:  10058B Location:  ['240, 287, 54, 4.99']\n",
      "Patient:  10058F Location:  ['238, 265, 77, 5.26']\n",
      "Patient:  10059B Location:  ['37, 98, 34, 15.92\\n', '126, 44, 78, 6.16']\n",
      "Patient:  10059F Location:  ['506, 297, 122, 4.97']\n",
      "Patient:  10062B Location:  ['173, 215, 51, 6.91']\n",
      "Patient:  10062F Location:  ['170, 228, 69, 5.51']\n",
      "Patient:  10069B Location:  ['159, 182, 57, 7.22']\n",
      "Patient:  10069F Location:  ['171, 205, 56, 3.96']\n",
      "Patient:  10073B Location:  ['349, 228, 29, 6.0\\n', '211, 218, 43, 5.97\\n', '244, 371, 16, 4.12']\n",
      "Patient:  10073F Location:  ['329, 198, 66, 5.41\\n', '205, 195, 84, 5.63\\n', '240, 323, 35, 5.3']\n",
      "Patient:  10074B Location:  ['288, 219, 35, 5.61\\n', '217, 261, 56, 2.88']\n",
      "Patient:  10074F Location:  ['315, 205, 72, 4.02\\n', '251, 245, 101, 2.71']\n"
     ]
    }
   ],
   "source": [
    "import pathlib\n",
    " \n",
    "adam_path = pathlib.Path(\"/home/dhaval/adam_data/\")\n",
    "aneurysm_patients = 0\n",
    "\n",
    "for path in sorted(adam_path.rglob(\"location.txt\")):\n",
    "    data = open(str(path), \"r\").readlines()\n",
    "    parent = path.parent.parts[-1]\n",
    "    \n",
    "    print(\"Patient: \", str(parent), \"Location: \", data)\n",
    "    \n",
    "    if len(data) > 0:\n",
    "        aneurysm_patients += 1"
   ]
  },
  {
   "cell_type": "code",
   "execution_count": null,
   "metadata": {},
   "outputs": [],
   "source": [
    "print(aneurysm_patients)"
   ]
  },
  {
   "cell_type": "code",
   "execution_count": null,
   "metadata": {},
   "outputs": [],
   "source": [
    "import random\n",
    "\n",
    "# Full adam train dataset: \n",
    "# 35B and 35F of same subject with aneurysm\n",
    "# 23 unique with aneurysm\n",
    "# 20 without aneurysm\n",
    "# 113 cases total\n",
    "\n",
    "# Train   and val split: \n",
    "# 26B-26F and 9B-9F\n",
    "# 17      and 6\n",
    "# 15      and 5\n",
    "\n",
    "without = range(10001, 10021)\n",
    "unique = range(10021, 10044)\n",
    "same = range(10044, 10079)\n",
    "\n",
    "random.seed(8)\n",
    "\n",
    "val_without = sorted(random.sample(without, k=5))\n",
    "print(val_without)\n",
    "    \n",
    "val_unique = sorted(random.sample(unique, k=6))\n",
    "print(val_unique)\n",
    "\n",
    "val_same = sorted(random.sample(same, k=9))\n",
    "val_same_double = []\n",
    "\n",
    "for i in val_same:\n",
    "    val_same_double.append(str(i) + 'B')\n",
    "    val_same_double.append(str(i) + 'F')\n"
   ]
  },
  {
   "cell_type": "code",
   "execution_count": null,
   "metadata": {},
   "outputs": [],
   "source": [
    "import shutil\n",
    "\n",
    "train_adam_path = adam_path.joinpath(\"train/\")\n",
    "val_adam_path = adam_path.joinpath(\"val/\")\n",
    "\n",
    "for path in sorted(adam_path.glob(\"*/\")):\n",
    "    print(path)\n",
    "    patient = path.parts[-1]\n",
    "    \n",
    "    if patient in str(val_without) or patient in str(val_unique) or patient in val_same_double:\n",
    "        shutil.move(str(path), str(val_adam_path))\n",
    "\n",
    "    elif patient != \"train\" and patient != \"val\":\n",
    "        print(patient)\n",
    "        shutil.move(str(path), str(train_adam_path))\n",
    "    "
   ]
  },
  {
   "cell_type": "code",
   "execution_count": null,
   "metadata": {},
   "outputs": [],
   "source": []
  },
  {
   "cell_type": "code",
   "execution_count": 4,
   "metadata": {},
   "outputs": [
    {
     "name": "stdout",
     "output_type": "stream",
     "text": [
      "/home/dhaval/adam_data/val/10012/orig/TOF.nii.gz\n"
     ]
    },
    {
     "data": {
      "text/plain": [
       "<Figure size 432x288 with 0 Axes>"
      ]
     },
     "metadata": {},
     "output_type": "display_data"
    },
    {
     "data": {
      "application/vnd.jupyter.widget-view+json": {
       "model_id": "15c070a824f2429bb4e9d78fa3e324d6",
       "version_major": 2,
       "version_minor": 0
      },
      "text/plain": [
       "interactive(children=(IntSlider(value=255, continuous_update=False, description='x', max=511), IntSlider(value…"
      ]
     },
     "metadata": {},
     "output_type": "display_data"
    }
   ],
   "source": [
    "import nibabel as nib\n",
    "import niwidgets as nw\n",
    "\n",
    "case_num = 10012\n",
    "\n",
    "MRA_path = str(adam_path.joinpath(\"val/\", str(case_num), \"orig/TOF.nii.gz\"))\n",
    "print(MRA_path)\n",
    "\n",
    "MRA_affine = nib.load(MRA_path).affine\n",
    "\n",
    "MRA_widget = nw.NiftiWidget(MRA_path)\n",
    "MRA_widget.nifti_plotter()"
   ]
  },
  {
   "cell_type": "code",
   "execution_count": 15,
   "metadata": {},
   "outputs": [
    {
     "name": "stdout",
     "output_type": "stream",
     "text": [
      "Location:  [[221.0, 220.0, 35.0, 2.1], [253.0, 267.0, 40.0, 2.03]]\n",
      "/home/dhaval/adam_data/train/10044B/pre/TOF.nii.gz\n"
     ]
    },
    {
     "data": {
      "text/plain": [
       "<Figure size 432x288 with 0 Axes>"
      ]
     },
     "metadata": {},
     "output_type": "display_data"
    },
    {
     "data": {
      "application/vnd.jupyter.widget-view+json": {
       "model_id": "edbcdc83eb2d449fbfb7797738596741",
       "version_major": 2,
       "version_minor": 0
      },
      "text/plain": [
       "interactive(children=(IntSlider(value=255, continuous_update=False, description='x', max=511), IntSlider(value…"
      ]
     },
     "metadata": {},
     "output_type": "display_data"
    },
    {
     "name": "stdout",
     "output_type": "stream",
     "text": [
      "/home/dhaval/adam_data/train/10044B/aneurysms.nii.gz\n"
     ]
    },
    {
     "data": {
      "text/plain": [
       "<Figure size 432x288 with 0 Axes>"
      ]
     },
     "metadata": {},
     "output_type": "display_data"
    },
    {
     "data": {
      "application/vnd.jupyter.widget-view+json": {
       "model_id": "69af3e3f840f450fac611d976ba359e5",
       "version_major": 2,
       "version_minor": 0
      },
      "text/plain": [
       "interactive(children=(IntSlider(value=255, continuous_update=False, description='x', max=511), IntSlider(value…"
      ]
     },
     "metadata": {},
     "output_type": "display_data"
    },
    {
     "name": "stdout",
     "output_type": "stream",
     "text": [
      "torch.Size([124, 124, 60])\n",
      "(124, 124, 60)\n",
      "/home/dhaval/adam_data/train/10044B/patch.nii.gz\n"
     ]
    },
    {
     "data": {
      "text/plain": [
       "<Figure size 432x288 with 0 Axes>"
      ]
     },
     "metadata": {},
     "output_type": "display_data"
    },
    {
     "data": {
      "application/vnd.jupyter.widget-view+json": {
       "model_id": "035e9822c26f407da446a3b8caaa00c1",
       "version_major": 2,
       "version_minor": 0
      },
      "text/plain": [
       "interactive(children=(IntSlider(value=61, continuous_update=False, description='x', max=123), IntSlider(value=…"
      ]
     },
     "metadata": {},
     "output_type": "display_data"
    }
   ],
   "source": [
    "from data_utils import MRAData\n",
    "\n",
    "train_data = MRAData(adam_path, patch_size=[124, 124, 60], mode=\"train\")\n",
    "\n",
    "MRA_path = train_data.cases_dirs[32]\n",
    "\n",
    "raw_path = MRA_path.joinpath(\"pre/TOF.nii.gz\")\n",
    "seg_path = MRA_path.joinpath(\"aneurysms.nii.gz\")\n",
    "\n",
    "location_path = MRA_path.joinpath(\"location.txt\")\n",
    "\n",
    "# Get center of aneurysm from location.txt file of case\n",
    "aneurysm_location_coords = train_data.get_aneurysm_coords(location_path)\n",
    "\n",
    "print(\"Location: \", aneurysm_location_coords)\n",
    "\n",
    "raw_affine = nib.load(raw_path).affine\n",
    "\n",
    "print(raw_path)\n",
    "MRA_widget = nw.NiftiWidget(raw_path)\n",
    "MRA_widget.nifti_plotter()\n",
    "\n",
    "print(seg_path)\n",
    "seg_widget = nw.NiftiWidget(seg_path)\n",
    "seg_widget.nifti_plotter()\n",
    "\n",
    "save_name = MRA_path.joinpath(\"patch.nii.gz\")\n",
    "output = train_data[32][0].squeeze(0)\n",
    "print(output.size())\n",
    "output = output.detach().numpy()\n",
    "print(output.shape)\n",
    "out_img = nib.Nifti1Image(output, raw_affine)\n",
    "nib.save(out_img, save_name)\n",
    "\n",
    "print(save_name)\n",
    "test_widget = nw.NiftiWidget(save_name)\n",
    "test_widget.nifti_plotter()"
   ]
  },
  {
   "cell_type": "code",
   "execution_count": null,
   "metadata": {},
   "outputs": [],
   "source": []
  }
 ],
 "metadata": {
  "kernelspec": {
   "display_name": "Python 3",
   "language": "python",
   "name": "python3"
  },
  "language_info": {
   "codemirror_mode": {
    "name": "ipython",
    "version": 3
   },
   "file_extension": ".py",
   "mimetype": "text/x-python",
   "name": "python",
   "nbconvert_exporter": "python",
   "pygments_lexer": "ipython3",
   "version": "3.7.7"
  }
 },
 "nbformat": 4,
 "nbformat_minor": 4
}
