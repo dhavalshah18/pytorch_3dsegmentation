{
 "cells": [
  {
   "cell_type": "code",
   "execution_count": null,
   "metadata": {},
   "outputs": [],
   "source": [
    "import torch\n",
    "import torch.nn as nn\n",
    "import numpy\n",
    "import pathlib\n",
    "from data_utils import MRAData\n",
    "from trainer import Solver\n",
    "from blocks import *\n",
    "import os\n",
    "import nibabel as nib\n",
    "\n",
    "os.environ[\"CUDA_VISIBLE_DEVICES\"] = \"1,2\"\n",
    "\n",
    "%load_ext autoreload\n",
    "%autoreload 2\n",
    "\n",
    "import warnings\n",
    "warnings.filterwarnings(action='ignore')\n",
    "\n",
    "torch.cuda.is_available()"
   ]
  },
  {
   "cell_type": "code",
   "execution_count": null,
   "metadata": {},
   "outputs": [],
   "source": [
    "dataset_path = pathlib.Path(\"/home/dhaval/adam_data\")\n",
    "\n",
    "size = [20, 20, 20]\n",
    "\n",
    "train_data = MRAData(dataset_path, patch_size=size, mode=\"train\", transform=\"normalize\", leave_num=0)\n",
    "val_data = MRAData(dataset_path, patch_size=size, mode=\"val\", transform=\"normalize\", leave_num=0)\n",
    "\n",
    "train_loader = torch.utils.data.DataLoader(train_data, batch_size=2, shuffle=True, num_workers=2)\n",
    "val_loader = torch.utils.data.DataLoader(val_data, batch_size=2, shuffle=False, num_workers=2)"
   ]
  },
  {
   "cell_type": "code",
   "execution_count": null,
   "metadata": {},
   "outputs": [],
   "source": []
  },
  {
   "cell_type": "code",
   "execution_count": null,
   "metadata": {},
   "outputs": [],
   "source": [
    "model = UNet(in_channels=1, out_channels=2, final_activation=\"\")\n",
    "\n",
    "optim_args_SGD = {\"lr\": 3e-2, \"weight_decay\": 0.005, \"momentum\": 0.9, \"nesterov\": True}\n",
    "optim_args_Adam = {\"lr\": 5e-2, \"weight_decay\": 0.005}\n",
    "\n",
    "solver = Solver(optim_args=optim_args_SGD, optim=torch.optim.SGD)\n",
    "solver.train(model, train_loader, val_loader, log_nth=5, num_epochs=20)"
   ]
  },
  {
   "cell_type": "code",
   "execution_count": null,
   "metadata": {},
   "outputs": [],
   "source": [
    "torch.save(model.state_dict(), \"unet.pth\")"
   ]
  }
 ],
 "metadata": {
  "kernelspec": {
   "display_name": "Python 3",
   "language": "python",
   "name": "python3"
  },
  "language_info": {
   "codemirror_mode": {
    "name": "ipython",
    "version": 3
   },
   "file_extension": ".py",
   "mimetype": "text/x-python",
   "name": "python",
   "nbconvert_exporter": "python",
   "pygments_lexer": "ipython3",
   "version": "3.7.7"
  }
 },
 "nbformat": 4,
 "nbformat_minor": 4
}
